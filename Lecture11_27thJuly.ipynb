{
  "nbformat": 4,
  "nbformat_minor": 0,
  "metadata": {
    "colab": {
      "provenance": [],
      "authorship_tag": "ABX9TyOUVXbcDOgs7yLpFkRdLx21",
      "include_colab_link": true
    },
    "kernelspec": {
      "name": "python3",
      "display_name": "Python 3"
    },
    "language_info": {
      "name": "python"
    }
  },
  "cells": [
    {
      "cell_type": "markdown",
      "metadata": {
        "id": "view-in-github",
        "colab_type": "text"
      },
      "source": [
        "<a href=\"https://colab.research.google.com/github/GuptaChanchal08/Python_Learning/blob/main/Lecture11_27thJuly.ipynb\" target=\"_parent\"><img src=\"https://colab.research.google.com/assets/colab-badge.svg\" alt=\"Open In Colab\"/></a>"
      ]
    },
    {
      "cell_type": "code",
      "execution_count": null,
      "metadata": {
        "id": "TTvPwtBq7iXU",
        "colab": {
          "base_uri": "https://localhost:8080/"
        },
        "outputId": "e4df5651-213d-48b6-b545-4dac8f322531"
      },
      "outputs": [
        {
          "output_type": "stream",
          "name": "stdout",
          "text": [
            "Enter value for a: 6\n",
            "Enter value for b: 2\n",
            "Enter value for c: 8\n",
            "(-0.1666666666666666+1.1426091000668406j)\n",
            "(-0.16666666666666674-1.1426091000668406j)\n"
          ]
        }
      ],
      "source": [
        "a=int(input(\"Enter value for a: \"));\n",
        "b=int(input(\"Enter value for b: \"));\n",
        "c=int(input(\"Enter value for c: \"));\n",
        "d=(-b+(b**2-4*a*c)**0.5)/(2*a);\n",
        "print(d);\n",
        "e=(-b-(b**2-4*a*c)**0.5)/(2*a);\n",
        "print(e);"
      ]
    },
    {
      "cell_type": "code",
      "source": [
        "import cmath\n",
        "\n",
        "a=1;\n",
        "b=5;\n",
        "c=6;\n",
        "\n",
        "d=(b**2) - (4*a*c);\n",
        "\n",
        "sol1=(-b-cmath.sqrt(d))/(2*a);\n",
        "sol2=(-b+cmath.sqrt(d))/(2*a);\n",
        "print('The solution are {0} and {1}'.format(sol1,sol2))"
      ],
      "metadata": {
        "colab": {
          "base_uri": "https://localhost:8080/"
        },
        "id": "g85c2rcXHmA8",
        "outputId": "609499d2-876f-4a69-d366-24b5fe92445d"
      },
      "execution_count": null,
      "outputs": [
        {
          "output_type": "stream",
          "name": "stdout",
          "text": [
            "The solution are (-3+0j) and (-2+0j)\n"
          ]
        }
      ]
    },
    {
      "cell_type": "code",
      "source": [
        "#Generate a random number\n",
        "\n",
        "import random\n",
        "print(random.randint(0,9))"
      ],
      "metadata": {
        "colab": {
          "base_uri": "https://localhost:8080/"
        },
        "id": "2bsctSMpJhdz",
        "outputId": "ec6836e0-98ea-42d3-d73a-b3e9501b3255"
      },
      "execution_count": null,
      "outputs": [
        {
          "output_type": "stream",
          "name": "stdout",
          "text": [
            "3\n"
          ]
        }
      ]
    },
    {
      "cell_type": "code",
      "source": [
        "#Program to display calendar of the given month and year\n",
        "\n",
        "import calendar;\n",
        "\n",
        "year1=int(input(\"Enter your birth year: \"));\n",
        "month1=int(input(\"Enter yout birth month: \"));\n",
        "print(calendar.month(year1,month1))"
      ],
      "metadata": {
        "colab": {
          "base_uri": "https://localhost:8080/"
        },
        "id": "fDvA3a0IK9tq",
        "outputId": "70d1bc14-fa04-4f4c-9223-4a584eeb8d77"
      },
      "execution_count": null,
      "outputs": [
        {
          "output_type": "stream",
          "name": "stdout",
          "text": [
            "Enter your birth year: 2004\n",
            "Enter yout birth month: 07\n",
            "     July 2004\n",
            "Mo Tu We Th Fr Sa Su\n",
            "          1  2  3  4\n",
            " 5  6  7  8  9 10 11\n",
            "12 13 14 15 16 17 18\n",
            "19 20 21 22 23 24 25\n",
            "26 27 28 29 30 31\n",
            "\n"
          ]
        }
      ]
    }
  ]
}