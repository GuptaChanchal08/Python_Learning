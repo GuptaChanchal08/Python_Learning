{
  "nbformat": 4,
  "nbformat_minor": 0,
  "metadata": {
    "colab": {
      "provenance": [],
      "authorship_tag": "ABX9TyPM7RWjaS+hoKgOSNFkgXRZ",
      "include_colab_link": true
    },
    "kernelspec": {
      "name": "python3",
      "display_name": "Python 3"
    },
    "language_info": {
      "name": "python"
    }
  },
  "cells": [
    {
      "cell_type": "markdown",
      "metadata": {
        "id": "view-in-github",
        "colab_type": "text"
      },
      "source": [
        "<a href=\"https://colab.research.google.com/github/GuptaChanchal08/Python_Learning/blob/main/Lecture5_27thJune.ipynb\" target=\"_parent\"><img src=\"https://colab.research.google.com/assets/colab-badge.svg\" alt=\"Open In Colab\"/></a>"
      ]
    },
    {
      "cell_type": "code",
      "source": [
        "a=20\n",
        "b=20\n",
        "print(a) if a>b else print(b) if a<b else print(\"=\")"
      ],
      "metadata": {
        "colab": {
          "base_uri": "https://localhost:8080/"
        },
        "id": "tSz0hZEmkURO",
        "outputId": "4b6fb3f1-b41f-4803-81f1-ed6e3305044a"
      },
      "execution_count": null,
      "outputs": [
        {
          "output_type": "stream",
          "name": "stdout",
          "text": [
            "=\n"
          ]
        }
      ]
    },
    {
      "cell_type": "code",
      "source": [
        "a=int(input(\"Enter age: \"))\n",
        "if (16<=a<18):\n",
        "  print(\"Eligible for part-time job\")\n",
        "elif (18<=a<65):\n",
        "  print(\"Eligible for full-time job\")\n",
        "else:\n",
        "  print(\"Not eligible\")"
      ],
      "metadata": {
        "colab": {
          "base_uri": "https://localhost:8080/"
        },
        "id": "2lmiR2aBuXif",
        "outputId": "04c3c191-1d34-4007-c647-cd655f9a36ab"
      },
      "execution_count": null,
      "outputs": [
        {
          "output_type": "stream",
          "name": "stdout",
          "text": [
            "Enter age: 76\n",
            "Not eligible\n"
          ]
        }
      ]
    },
    {
      "cell_type": "code",
      "source": [
        "a=10\n",
        "b=20\n",
        "print(a) if a>b else print(b)"
      ],
      "metadata": {
        "colab": {
          "base_uri": "https://localhost:8080/"
        },
        "id": "rDOkN-gAjPko",
        "outputId": "8d526a1f-3780-474b-c115-a21c0d9818be"
      },
      "execution_count": null,
      "outputs": [
        {
          "output_type": "stream",
          "name": "stdout",
          "text": [
            "20\n"
          ]
        }
      ]
    },
    {
      "cell_type": "code",
      "source": [
        "a=int(input(\"Enter age: \"))\n",
        "print(\"Eligible for part-time job\") if (16<=a<18) else print(\"Eligible for full-time job\") if(18<=a<65) else print(\"Not eligible\")"
      ],
      "metadata": {
        "colab": {
          "base_uri": "https://localhost:8080/"
        },
        "id": "m0T41hvxklfr",
        "outputId": "aaae259f-712c-4932-c8c5-dc8d14579fc2"
      },
      "execution_count": null,
      "outputs": [
        {
          "output_type": "stream",
          "name": "stdout",
          "text": [
            "Enter age: 16\n",
            "Eligible for part-time job\n"
          ]
        }
      ]
    },
    {
      "cell_type": "code",
      "source": [
        "n=float(input(\"Enter number: \"))\n",
        "if n>=0:\n",
        " if n==0:\n",
        "   print(\"Zero\")\n",
        " else:\n",
        "   print(\"Positive number\")\n",
        "else:\n",
        "  print(\"Negative number\")"
      ],
      "metadata": {
        "colab": {
          "base_uri": "https://localhost:8080/"
        },
        "id": "q6B8d0N3o64Y",
        "outputId": "758df5e0-084c-46f8-94a3-b097e41f843a"
      },
      "execution_count": null,
      "outputs": [
        {
          "output_type": "stream",
          "name": "stdout",
          "text": [
            "Enter number: 16\n",
            "Positive number\n"
          ]
        }
      ]
    },
    {
      "cell_type": "code",
      "source": [
        "a=int(input(\"Enter choice: \"))\n",
        "if (a==1):\n",
        "  bud=int(input(\"Enter budget: \"))\n",
        "  if(bud>=10000 and bud<20000):\n",
        "      print(\"Samsung, Poco\")\n",
        "  elif(bud>=20000 and bud<50000):\n",
        "      print(\"Redmi, Vivo\")\n",
        "  else:\n",
        "      print(\"Out of range\")\n",
        "elif (a==2):\n",
        "  b=int(input(\"Enter budget: \"))\n",
        "  if(b>=50000 and b<60000):\n",
        "      print(\"Lenevo\")\n",
        "  elif(b>=60000 and b<80000):\n",
        "      print(\"Dell, Apple\" )\n",
        "  else:\n",
        "      print(\"Out of range\")\n",
        "else:\n",
        "  print(\"Invalid choice\")"
      ],
      "metadata": {
        "colab": {
          "base_uri": "https://localhost:8080/"
        },
        "id": "5EFhV2c7q6rA",
        "outputId": "c06bb0e3-2381-42e4-dd45-69317a5bb7dd"
      },
      "execution_count": null,
      "outputs": [
        {
          "output_type": "stream",
          "name": "stdout",
          "text": [
            "Enter choice: 3\n",
            "Invalid choice\n"
          ]
        }
      ]
    },
    {
      "cell_type": "code",
      "source": [
        "Food_choice=input(\"Breakfast, Lunch, Dinner: \")\n",
        "if(Food_choice==\"Breakfast\"):\n",
        " food=input(\"South_Indian or North_Indian: \")\n",
        " if(food==\"South_Indian\"):\n",
        "    c=input(\"Idli or Dosa:\")\n",
        "    if(c==\"Idli\"):\n",
        "        print(\"You ordered Idli\")\n",
        "    elif(c==\"Dosa\"):\n",
        "        print(\"You ordered Dosa\")\n",
        "    else:\n",
        "        print(\"Invalid choice\")\n",
        " elif(food==\"North_Indian\"):\n",
        "    d=input(\"Paratha or Poha: \")\n",
        "    if(d==\"Partha\"):\n",
        "        print(\"You ordered Paratha\")\n",
        "    elif(d==\"Poha\"):\n",
        "        print(\"You ordered Poha\")\n",
        "    else:\n",
        "        print(\"Invalid choice\")\n",
        " else:\n",
        "    print(\"Invalid choice\")\n",
        "elif(Food_choice==\"Lunch\"):\n",
        "  food=input(\"South_Indian or North_Indian: \")\n",
        "  if(food==\"South_Indian\"):\n",
        "    c=input(\"Tamarind Rice or Menduvada: \")\n",
        "    if(c==\"Tamarind Rice\"):\n",
        "        print(\"You ordered Tamarind Rice\")\n",
        "    elif(c==\"Menduvada\"):\n",
        "        print(\"You ordered Menduvada\" )\n",
        "    else:\n",
        "        print(\"Invalid choice\")\n",
        "  elif(food==\"North_Indian\"):\n",
        "    d=input(\"Khichadi or Roti: \")\n",
        "    if(d==\"Khichadi\"):\n",
        "        print(\"You ordered Khichadi\" )\n",
        "    elif(d==\"Roti\"):\n",
        "        print(\"You ordered Roti\")\n",
        "    else:\n",
        "        print(\"Invalid choice\")\n",
        "  else:\n",
        "    print(\"Invalid choice\")\n",
        "elif(Food_choice==\"Dinner\"):\n",
        "  food=input(\"South_Indian or North_Indian: \")\n",
        "  if(food==\"South_Indian\"):\n",
        "    c=input(\"Daal or Curry: \")\n",
        "    if(c==\"Daal\"):\n",
        "        print(\"You ordered Daal\")\n",
        "    elif(c==\"Curry\"):\n",
        "        print(\"You ordered Curry\" )\n",
        "    else:\n",
        "        print(\"Invalid choice\")\n",
        "  elif(food==\"North_Indian\"):\n",
        "    d=input(\"Paneer or Biryani: \" )\n",
        "    if(d==\"Paneer\"):\n",
        "        print(\"You ordered Paneer\" )\n",
        "    elif(d==\"Biryani\"):\n",
        "        print(\"You ordered Biryani\")\n",
        "    else:\n",
        "        print(\"Invalid choice\")\n",
        "  else:\n",
        "    print(\"Invalid choice\")\n",
        "else:\n",
        "  print(\" Invalid choice\")"
      ],
      "metadata": {
        "colab": {
          "base_uri": "https://localhost:8080/"
        },
        "id": "yzJvtIIixnkB",
        "outputId": "70ffb0db-f8ce-4a17-c060-48e176844df2"
      },
      "execution_count": null,
      "outputs": [
        {
          "output_type": "stream",
          "name": "stdout",
          "text": [
            "Breakfast, Lunch, Dinner: Dinner\n",
            "South_Indian or North_Indian: North_Indian\n",
            "Paneer or Biryani: Biryani\n",
            "You ordered Biryani\n"
          ]
        }
      ]
    }
  ]
}