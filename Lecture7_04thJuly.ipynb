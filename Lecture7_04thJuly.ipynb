{
  "nbformat": 4,
  "nbformat_minor": 0,
  "metadata": {
    "colab": {
      "provenance": [],
      "authorship_tag": "ABX9TyPOwbqoi7757tWqdR1I9bol",
      "include_colab_link": true
    },
    "kernelspec": {
      "name": "python3",
      "display_name": "Python 3"
    },
    "language_info": {
      "name": "python"
    }
  },
  "cells": [
    {
      "cell_type": "markdown",
      "metadata": {
        "id": "view-in-github",
        "colab_type": "text"
      },
      "source": [
        "<a href=\"https://colab.research.google.com/github/GuptaChanchal08/Python_Learning/blob/main/Lecture7_04thJuly.ipynb\" target=\"_parent\"><img src=\"https://colab.research.google.com/assets/colab-badge.svg\" alt=\"Open In Colab\"/></a>"
      ]
    },
    {
      "cell_type": "code",
      "execution_count": null,
      "metadata": {
        "colab": {
          "base_uri": "https://localhost:8080/"
        },
        "id": "PyqsTOTofhlZ",
        "outputId": "065ceb22-ebb6-4a62-d9f4-371d98db5ddd"
      },
      "outputs": [
        {
          "output_type": "stream",
          "name": "stdout",
          "text": [
            "1  \n",
            "2 2  \n",
            "3 3 3  \n",
            "4 4 4 4  \n",
            "5 5 5 5 5  \n",
            "6 6 6 6 6 6  \n",
            "7 7 7 7 7 7 7  \n",
            "8 8 8 8 8 8 8 8  \n",
            "9 9 9 9 9 9 9 9 9  \n"
          ]
        }
      ],
      "source": [
        "#NESTED WHILE LOOP\n",
        "p=1\n",
        "while p<10:\n",
        " q=1\n",
        " while q<=p:\n",
        "  print(p,end=\" \")\n",
        "  q+=1\n",
        " p+=1\n",
        " print(\" \")"
      ]
    },
    {
      "cell_type": "code",
      "source": [
        "#BREAK STATEMENT\n",
        "for num in range(10):\n",
        " if num>5:\n",
        "  print(\"Stop processing\")\n",
        "  break\n",
        " print(num)"
      ],
      "metadata": {
        "colab": {
          "base_uri": "https://localhost:8080/"
        },
        "id": "LfyMtAzgkX0N",
        "outputId": "5ce24615-391b-4b8d-bc9b-5cf7cf71e91f"
      },
      "execution_count": null,
      "outputs": [
        {
          "output_type": "stream",
          "name": "stdout",
          "text": [
            "0\n",
            "1\n",
            "2\n",
            "3\n",
            "4\n",
            "5\n",
            "Stop processing\n"
          ]
        }
      ]
    },
    {
      "cell_type": "code",
      "source": [
        "#CONTINUE STATEMENT\n",
        "for num in range(10):\n",
        " if num % 2!= 0:\n",
        "  print(\"Skip\")\n",
        "  continue\n",
        " print(num)"
      ],
      "metadata": {
        "colab": {
          "base_uri": "https://localhost:8080/"
        },
        "id": "etEDuYmPklFS",
        "outputId": "d16b6087-7148-41f9-9058-593da36682d3"
      },
      "execution_count": null,
      "outputs": [
        {
          "output_type": "stream",
          "name": "stdout",
          "text": [
            "0\n",
            "Skip\n",
            "2\n",
            "Skip\n",
            "4\n",
            "Skip\n",
            "6\n",
            "Skip\n",
            "8\n",
            "Skip\n"
          ]
        }
      ]
    },
    {
      "cell_type": "code",
      "source": [
        "#IF-ELSE STATEMENT\n",
        "course_choice=input(\"Enter course you are interested in: \")\n",
        "if course_choice==\"BSCIT\":\n",
        " percentage=float(input(\"Enter your percentage: \"))\n",
        " subject=input(\"Enter optional subjects: \")\n",
        " if subject==\"Math\" and percentage>=35:\n",
        "  print(\"Admission sucessful!\")\n",
        " else:\n",
        "  print(\"Not eligible\")\n",
        "else:\n",
        " print(\"Admission not granted\")"
      ],
      "metadata": {
        "colab": {
          "base_uri": "https://localhost:8080/"
        },
        "id": "gNtZ3hjyqz5E",
        "outputId": "e8d23c3a-332d-4fc9-ce6b-a6435deb8791"
      },
      "execution_count": null,
      "outputs": [
        {
          "output_type": "stream",
          "name": "stdout",
          "text": [
            "Enter course you are interested in: BSCIT\n",
            "Enter your percentage: 67\n",
            "Enter optional subjects: Math\n",
            "Admission sucessful!\n"
          ]
        }
      ]
    },
    {
      "cell_type": "code",
      "source": [
        "#CONTINUE STATEMENT\n",
        "for num in range(3,8):\n",
        " if num==5:\n",
        "  continue\n",
        " else:\n",
        "  print(num)"
      ],
      "metadata": {
        "colab": {
          "base_uri": "https://localhost:8080/"
        },
        "id": "0EvWHa1Nt0zb",
        "outputId": "6833e010-14f7-408e-d131-f4ba20c3598a"
      },
      "execution_count": null,
      "outputs": [
        {
          "output_type": "stream",
          "name": "stdout",
          "text": [
            "3\n",
            "4\n",
            "6\n",
            "7\n"
          ]
        }
      ]
    },
    {
      "cell_type": "code",
      "source": [
        "#BREAK STATEMENT\n",
        "for num in range(3,8):\n",
        " if num==5:\n",
        "  break\n",
        " else:\n",
        "  print(num)"
      ],
      "metadata": {
        "id": "B1WUSv7x0Rp4",
        "outputId": "65bcfbb9-517a-48e4-e2f6-14b0f41ece77",
        "colab": {
          "base_uri": "https://localhost:8080/"
        }
      },
      "execution_count": null,
      "outputs": [
        {
          "output_type": "stream",
          "name": "stdout",
          "text": [
            "3\n",
            "4\n"
          ]
        }
      ]
    },
    {
      "cell_type": "code",
      "source": [
        "#FUNCTION STATEMENT\n",
        "def test():\n",
        " print(\"Hello!\")\n",
        "\n",
        "test()"
      ],
      "metadata": {
        "colab": {
          "base_uri": "https://localhost:8080/"
        },
        "id": "VZ7SP_JBvja9",
        "outputId": "dc1571f2-a9c6-463c-fdf0-28874354bfc1"
      },
      "execution_count": null,
      "outputs": [
        {
          "output_type": "stream",
          "name": "stdout",
          "text": [
            "Hello!\n"
          ]
        }
      ]
    },
    {
      "cell_type": "code",
      "source": [
        "#FUNCTION STATEMENT WITH PARAMETERS\n",
        "def add(a,b):\n",
        " print(a+b)\n",
        "\n",
        "add(16,8)"
      ],
      "metadata": {
        "colab": {
          "base_uri": "https://localhost:8080/"
        },
        "id": "CadOJhtKwY_U",
        "outputId": "8227b026-5f06-41ab-f2dc-09f9451ade65"
      },
      "execution_count": null,
      "outputs": [
        {
          "output_type": "stream",
          "name": "stdout",
          "text": [
            "24\n"
          ]
        }
      ]
    },
    {
      "cell_type": "code",
      "source": [
        "#FUNCTION STATEMENT WITH FOR LOOP\n",
        "def print_num(a):\n",
        " for num in range(a):\n",
        "  print(num)\n",
        "\n",
        "print_num(11)"
      ],
      "metadata": {
        "colab": {
          "base_uri": "https://localhost:8080/"
        },
        "id": "U4oAEuIixhKQ",
        "outputId": "14799d1f-f64d-40c1-966f-ed871f420f84"
      },
      "execution_count": null,
      "outputs": [
        {
          "output_type": "stream",
          "name": "stdout",
          "text": [
            "0\n",
            "1\n",
            "2\n",
            "3\n",
            "4\n",
            "5\n",
            "6\n",
            "7\n",
            "8\n",
            "9\n",
            "10\n"
          ]
        }
      ]
    },
    {
      "cell_type": "code",
      "source": [
        "#FUNCTION STATEMENT EXAMPLE\n",
        "def admission():\n",
        " course_choice=input(\"Enter course you are interested in: \")\n",
        " if course_choice==\"BSCIT\":\n",
        "  percentage=float(input(\"Enter your percentage: \"))\n",
        "  subject=input(\"Enter optional subjects: \")\n",
        "  if subject==\"Math\" and percentage>=35:\n",
        "   print(\"Admission sucessful!\")\n",
        "  else:\n",
        "   print(\"Not eligible\")\n",
        " else:\n",
        "  print(\"Admission not granted\")\n",
        "\n",
        "admission()"
      ],
      "metadata": {
        "colab": {
          "base_uri": "https://localhost:8080/"
        },
        "id": "6FlCrMbGyiKZ",
        "outputId": "a6d72cde-b87d-41f4-d470-2ca99a965358"
      },
      "execution_count": null,
      "outputs": [
        {
          "output_type": "stream",
          "name": "stdout",
          "text": [
            "Enter course you are interested in: BSCIT\n",
            "Enter your percentage: 98\n",
            "Enter optional subjects: Math\n",
            "Admission sucessful!\n"
          ]
        }
      ]
    }
  ]
}