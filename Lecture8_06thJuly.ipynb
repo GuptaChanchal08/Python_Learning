{
  "nbformat": 4,
  "nbformat_minor": 0,
  "metadata": {
    "colab": {
      "provenance": [],
      "authorship_tag": "ABX9TyNxKp+Q0cCaUjiqUPSBtQLh",
      "include_colab_link": true
    },
    "kernelspec": {
      "name": "python3",
      "display_name": "Python 3"
    },
    "language_info": {
      "name": "python"
    }
  },
  "cells": [
    {
      "cell_type": "markdown",
      "metadata": {
        "id": "view-in-github",
        "colab_type": "text"
      },
      "source": [
        "<a href=\"https://colab.research.google.com/github/GuptaChanchal08/Python_Learning/blob/main/Lecture8_06thJuly.ipynb\" target=\"_parent\"><img src=\"https://colab.research.google.com/assets/colab-badge.svg\" alt=\"Open In Colab\"/></a>"
      ]
    },
    {
      "cell_type": "code",
      "execution_count": null,
      "metadata": {
        "colab": {
          "base_uri": "https://localhost:8080/"
        },
        "id": "xccr9be4QqDe",
        "outputId": "9438e32a-c0eb-4f0f-c872-8b8a8972dbcd"
      },
      "outputs": [
        {
          "output_type": "stream",
          "name": "stdout",
          "text": [
            "Enter your choice:\n",
            "1:add\n",
            "2:sub\n",
            "3:mul\n",
            "4:div: 2\n",
            "Enter no1 value:16\n",
            "Enter no2 value:8\n",
            "8\n"
          ]
        }
      ],
      "source": [
        "#CALCULATOR USING FUNCTION\n",
        "def add(a,b):\n",
        " return(a+b)\n",
        "def sub(a,b):\n",
        " return(a-b)\n",
        "def mul(a,b):\n",
        " return(a*b)\n",
        "def div(a,b):\n",
        " return(a/b)\n",
        "\n",
        "c=int(input('''Enter your choice:\n",
        "1:add\n",
        "2:sub\n",
        "3:mul\n",
        "4:div: '''))\n",
        "No1=int(input(\"Enter no1 value:\"))\n",
        "No2=int(input(\"Enter no2 value:\"))\n",
        "if c==1:\n",
        " result=add(No1,No2)\n",
        " print(result)\n",
        "elif c==2:\n",
        " result=sub(No1,No2)\n",
        " print(result)\n",
        "elif c==3:\n",
        " result=mul(No1,No2)\n",
        " print(result)\n",
        "else:\n",
        " result=div(No1,No2)\n",
        " print(result)"
      ]
    },
    {
      "cell_type": "code",
      "source": [
        "#MAX MATH FUNCTION\n",
        "def max(a,b):\n",
        " if (a>b):\n",
        "  print(a)\n",
        " else:\n",
        "  print(b)\n",
        "\n",
        "x,y,z=10,20,30\n",
        "print(max(x,max(y,z)))"
      ],
      "metadata": {
        "colab": {
          "base_uri": "https://localhost:8080/",
          "height": 454
        },
        "id": "dklusO-fdMsf",
        "outputId": "1631d4ba-6ab8-4379-e9e9-d5287d1392fd"
      },
      "execution_count": null,
      "outputs": [
        {
          "output_type": "stream",
          "name": "stdout",
          "text": [
            "30\n"
          ]
        },
        {
          "output_type": "error",
          "ename": "TypeError",
          "evalue": "'>' not supported between instances of 'int' and 'NoneType'",
          "traceback": [
            "\u001b[0;31m---------------------------------------------------------------------------\u001b[0m",
            "\u001b[0;31mTypeError\u001b[0m                                 Traceback (most recent call last)",
            "\u001b[0;32m<ipython-input-20-6091e4c57107>\u001b[0m in \u001b[0;36m<cell line: 8>\u001b[0;34m()\u001b[0m\n\u001b[1;32m      6\u001b[0m \u001b[0;34m\u001b[0m\u001b[0m\n\u001b[1;32m      7\u001b[0m \u001b[0mx\u001b[0m\u001b[0;34m,\u001b[0m\u001b[0my\u001b[0m\u001b[0;34m,\u001b[0m\u001b[0mz\u001b[0m\u001b[0;34m=\u001b[0m\u001b[0;36m10\u001b[0m\u001b[0;34m,\u001b[0m\u001b[0;36m20\u001b[0m\u001b[0;34m,\u001b[0m\u001b[0;36m30\u001b[0m\u001b[0;34m\u001b[0m\u001b[0;34m\u001b[0m\u001b[0m\n\u001b[0;32m----> 8\u001b[0;31m \u001b[0mprint\u001b[0m\u001b[0;34m(\u001b[0m\u001b[0mmax\u001b[0m\u001b[0;34m(\u001b[0m\u001b[0mx\u001b[0m\u001b[0;34m,\u001b[0m\u001b[0mmax\u001b[0m\u001b[0;34m(\u001b[0m\u001b[0my\u001b[0m\u001b[0;34m,\u001b[0m\u001b[0mz\u001b[0m\u001b[0;34m)\u001b[0m\u001b[0;34m)\u001b[0m\u001b[0;34m)\u001b[0m\u001b[0;34m\u001b[0m\u001b[0;34m\u001b[0m\u001b[0m\n\u001b[0m",
            "\u001b[0;32m<ipython-input-20-6091e4c57107>\u001b[0m in \u001b[0;36mmax\u001b[0;34m(a, b)\u001b[0m\n\u001b[1;32m      1\u001b[0m \u001b[0;32mdef\u001b[0m \u001b[0mmax\u001b[0m\u001b[0;34m(\u001b[0m\u001b[0ma\u001b[0m\u001b[0;34m,\u001b[0m\u001b[0mb\u001b[0m\u001b[0;34m)\u001b[0m\u001b[0;34m:\u001b[0m\u001b[0;34m\u001b[0m\u001b[0;34m\u001b[0m\u001b[0m\n\u001b[0;32m----> 2\u001b[0;31m  \u001b[0;32mif\u001b[0m \u001b[0;34m(\u001b[0m\u001b[0ma\u001b[0m\u001b[0;34m>\u001b[0m\u001b[0mb\u001b[0m\u001b[0;34m)\u001b[0m\u001b[0;34m:\u001b[0m\u001b[0;34m\u001b[0m\u001b[0;34m\u001b[0m\u001b[0m\n\u001b[0m\u001b[1;32m      3\u001b[0m   \u001b[0mprint\u001b[0m\u001b[0;34m(\u001b[0m\u001b[0ma\u001b[0m\u001b[0;34m)\u001b[0m\u001b[0;34m\u001b[0m\u001b[0;34m\u001b[0m\u001b[0m\n\u001b[1;32m      4\u001b[0m  \u001b[0;32melse\u001b[0m\u001b[0;34m:\u001b[0m\u001b[0;34m\u001b[0m\u001b[0;34m\u001b[0m\u001b[0m\n\u001b[1;32m      5\u001b[0m   \u001b[0mprint\u001b[0m\u001b[0;34m(\u001b[0m\u001b[0mb\u001b[0m\u001b[0;34m)\u001b[0m\u001b[0;34m\u001b[0m\u001b[0;34m\u001b[0m\u001b[0m\n",
            "\u001b[0;31mTypeError\u001b[0m: '>' not supported between instances of 'int' and 'NoneType'"
          ]
        }
      ]
    },
    {
      "cell_type": "code",
      "source": [
        "ADD MATH FUNCTION\n",
        "def add(a,b):\n",
        " return a+b\n",
        "\n",
        "print(add(10,add(20,30)))"
      ],
      "metadata": {
        "colab": {
          "base_uri": "https://localhost:8080/"
        },
        "id": "jAvuzm03gfUq",
        "outputId": "d8f198e8-14d5-45d8-f2b3-5370ca954df6"
      },
      "execution_count": null,
      "outputs": [
        {
          "output_type": "stream",
          "name": "stdout",
          "text": [
            "60\n"
          ]
        }
      ]
    },
    {
      "cell_type": "code",
      "source": [
        "#ADD, SUB, MUL MATH FUNCTION\n",
        "def add(a,b):\n",
        " return(a+b)\n",
        "def sub(a,b):\n",
        " return(a-b)\n",
        "def mul(a,b):\n",
        " return(a*b)\n",
        "\n",
        "c=int(input('''Enter your choice:\n",
        "1:add\n",
        "2:sub\n",
        "3:mul: '''))\n",
        "No1=int(input(\"Enter 1st value:\"))\n",
        "No2=int(input(\"Enter 2nd value:\"))\n",
        "No3=int(input(\"Enter 3rd value:\"))\n",
        "if c==1:\n",
        " print(add(No1,add(No2,No3)))\n",
        "elif c==2:\n",
        " print(sub(No1,sub(No2,No3)))\n",
        "else:\n",
        " print(mul(No1,mul(No2,No3)))"
      ],
      "metadata": {
        "colab": {
          "base_uri": "https://localhost:8080/"
        },
        "id": "ytfY4fE2hBWL",
        "outputId": "7bbba6df-ddc9-45c3-8665-65c5e7d0f18a"
      },
      "execution_count": null,
      "outputs": [
        {
          "output_type": "stream",
          "name": "stdout",
          "text": [
            "Enter your choice:\n",
            "1:add\n",
            "2:sub\n",
            "3:mul: 2\n",
            "Enter 1st value:10\n",
            "Enter 2nd value:20\n",
            "Enter 3rd value:30\n",
            "20\n"
          ]
        }
      ]
    },
    {
      "cell_type": "code",
      "source": [
        "#ADD, SUB, MUL MATH FUNCTION\n",
        "def add(a,b):\n",
        " return(a+b)\n",
        "def sub(a,b):\n",
        " return(a-b)\n",
        "def mul(a,b):\n",
        " return(a*b)\n",
        "\n",
        "c=int(input('''Enter your choice:\n",
        "1:add\n",
        "2:sub\n",
        "3:mul: '''))\n",
        "No1=int(input(\"Enter 1st value:\"))\n",
        "No2=int(input(\"Enter 2nd value:\"))\n",
        "No3=int(input(\"Enter 3rd value:\"))\n",
        "No4=int(input(\"Enter 4th value:\"))\n",
        "if c==1:\n",
        " print(add(No1,add(No2,add(No3,No4))))\n",
        "elif c==2:\n",
        " print(sub(No1,sub(No2,sub(No3,No4))))\n",
        "else:\n",
        " print(mul(No1,mul(No2,mul(No3,No4))))"
      ],
      "metadata": {
        "colab": {
          "base_uri": "https://localhost:8080/"
        },
        "id": "zxOuWwhjjzJU",
        "outputId": "de83ab82-bc7e-4f12-df55-b3a2a2be0376"
      },
      "execution_count": null,
      "outputs": [
        {
          "output_type": "stream",
          "name": "stdout",
          "text": [
            "Enter your choice:\n",
            "1:add\n",
            "2:sub\n",
            "3:mul: 2\n",
            "Enter 1st value:10\n",
            "Enter 2nd value:20\n",
            "Enter 3rd value:30\n",
            "Enter 4th value:40\n",
            "-20\n"
          ]
        }
      ]
    }
  ]
}