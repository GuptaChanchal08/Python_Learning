{
  "nbformat": 4,
  "nbformat_minor": 0,
  "metadata": {
    "colab": {
      "provenance": [],
      "authorship_tag": "ABX9TyMStRYBUjpxZt+ES1A4o1Eu",
      "include_colab_link": true
    },
    "kernelspec": {
      "name": "python3",
      "display_name": "Python 3"
    },
    "language_info": {
      "name": "python"
    }
  },
  "cells": [
    {
      "cell_type": "markdown",
      "metadata": {
        "id": "view-in-github",
        "colab_type": "text"
      },
      "source": [
        "<a href=\"https://colab.research.google.com/github/GuptaChanchal08/Python_Learning/blob/main/Lecture12_01stAug.ipynb\" target=\"_parent\"><img src=\"https://colab.research.google.com/assets/colab-badge.svg\" alt=\"Open In Colab\"/></a>"
      ]
    },
    {
      "cell_type": "code",
      "execution_count": null,
      "metadata": {
        "colab": {
          "base_uri": "https://localhost:8080/"
        },
        "id": "xSmkmC8h2PNh",
        "outputId": "5166eae2-b847-4ca6-e413-57e5eeaf1fc9"
      },
      "outputs": [
        {
          "output_type": "stream",
          "name": "stdout",
          "text": [
            "G\n",
            "o\n",
            " \n",
            "s\n",
            "p\n",
            "o\n",
            "t\n",
            " \n",
            "g\n",
            "o\n"
          ]
        }
      ],
      "source": [
        "for achar in \"Go spot go\":\n",
        " print(achar)"
      ]
    },
    {
      "cell_type": "code",
      "source": [
        "s=\"Python rocks\"\n",
        "for ch in s:\n",
        " print(\"Hello\")"
      ],
      "metadata": {
        "colab": {
          "base_uri": "https://localhost:8080/"
        },
        "id": "40gs0qsk2900",
        "outputId": "a2060ff4-4647-442b-f6ab-727b27fd3383"
      },
      "execution_count": null,
      "outputs": [
        {
          "output_type": "stream",
          "name": "stdout",
          "text": [
            "Hello\n",
            "Hello\n",
            "Hello\n",
            "Hello\n",
            "Hello\n",
            "Hello\n",
            "Hello\n",
            "Hello\n",
            "Hello\n",
            "Hello\n",
            "Hello\n",
            "Hello\n"
          ]
        }
      ]
    },
    {
      "cell_type": "code",
      "source": [
        "s=\"Python rocks\"\n",
        "for ch in s[3:8]:\n",
        " print(\"Hello\")"
      ],
      "metadata": {
        "colab": {
          "base_uri": "https://localhost:8080/"
        },
        "id": "-RkouKpm3I-3",
        "outputId": "c4461814-efd9-4cc2-8abc-e5dd561a2e94"
      },
      "execution_count": null,
      "outputs": [
        {
          "output_type": "stream",
          "name": "stdout",
          "text": [
            "Hello\n",
            "Hello\n",
            "Hello\n",
            "Hello\n",
            "Hello\n"
          ]
        }
      ]
    },
    {
      "cell_type": "code",
      "source": [
        "s=\"Python rocks\"\n",
        "print(s[::-1])"
      ],
      "metadata": {
        "colab": {
          "base_uri": "https://localhost:8080/"
        },
        "id": "OwTu_Tul3kIz",
        "outputId": "b7885477-f7ce-474d-bc58-7e96ae73d636"
      },
      "execution_count": null,
      "outputs": [
        {
          "output_type": "stream",
          "name": "stdout",
          "text": [
            "skcor nohtyP\n"
          ]
        }
      ]
    },
    {
      "cell_type": "code",
      "source": [
        "s=\"Hello World\"\n",
        "print(\"J\" + s[1:6] +\"M\" + s[7:])"
      ],
      "metadata": {
        "colab": {
          "base_uri": "https://localhost:8080/"
        },
        "id": "clgW9WZs4ewQ",
        "outputId": "bbdc7995-04b5-4e9d-d53c-79562f3fdb00"
      },
      "execution_count": null,
      "outputs": [
        {
          "output_type": "stream",
          "name": "stdout",
          "text": [
            "Jello Morld\n"
          ]
        }
      ]
    },
    {
      "cell_type": "code",
      "source": [
        "s=\"Hello World\"\n",
        "print(s[0::2])"
      ],
      "metadata": {
        "colab": {
          "base_uri": "https://localhost:8080/"
        },
        "id": "BuuUzJmr5BAS",
        "outputId": "a48bdd2b-6879-489b-f401-cb5f6ac3ebcd"
      },
      "execution_count": null,
      "outputs": [
        {
          "output_type": "stream",
          "name": "stdout",
          "text": [
            "HloWrd\n"
          ]
        }
      ]
    },
    {
      "cell_type": "code",
      "source": [
        "s=\"Hello World\"\n",
        "print(s[1::2])"
      ],
      "metadata": {
        "colab": {
          "base_uri": "https://localhost:8080/"
        },
        "id": "se07sOKz5jIB",
        "outputId": "d9da944d-4696-4c56-8f79-5fbdf64b58f7"
      },
      "execution_count": null,
      "outputs": [
        {
          "output_type": "stream",
          "name": "stdout",
          "text": [
            "el ol\n"
          ]
        }
      ]
    },
    {
      "cell_type": "code",
      "source": [
        "s=\"Hello World\"\n",
        "print(s[:7:2])"
      ],
      "metadata": {
        "colab": {
          "base_uri": "https://localhost:8080/"
        },
        "id": "zzNkhWHH52VJ",
        "outputId": "28f8adbd-164b-4238-f138-11a991a62647"
      },
      "execution_count": null,
      "outputs": [
        {
          "output_type": "stream",
          "name": "stdout",
          "text": [
            "HloW\n"
          ]
        }
      ]
    },
    {
      "cell_type": "code",
      "source": [
        "s=\"Hello World\"\n",
        "print(s[-1:])"
      ],
      "metadata": {
        "colab": {
          "base_uri": "https://localhost:8080/"
        },
        "id": "_dGolJUh6M5U",
        "outputId": "8e9c3593-cfee-4ba8-8ee3-e4f445f079a3"
      },
      "execution_count": null,
      "outputs": [
        {
          "output_type": "stream",
          "name": "stdout",
          "text": [
            "d\n"
          ]
        }
      ]
    },
    {
      "cell_type": "code",
      "source": [
        "s=\"Hello World\"\n",
        "print(s[:-1:])"
      ],
      "metadata": {
        "colab": {
          "base_uri": "https://localhost:8080/"
        },
        "id": "AU6PSv7-6Vig",
        "outputId": "6cd459cc-77df-421f-e4a7-508db9eeaebe"
      },
      "execution_count": null,
      "outputs": [
        {
          "output_type": "stream",
          "name": "stdout",
          "text": [
            "Hello Worl\n"
          ]
        }
      ]
    },
    {
      "cell_type": "code",
      "source": [
        "s=\"Hello World\"\n",
        "print(s[:1:-1])"
      ],
      "metadata": {
        "colab": {
          "base_uri": "https://localhost:8080/"
        },
        "id": "S5595Aqk7GjV",
        "outputId": "4a7aed79-1a3d-4b8c-bbb8-1feb9520bb69"
      },
      "execution_count": null,
      "outputs": [
        {
          "output_type": "stream",
          "name": "stdout",
          "text": [
            "dlroW oll\n"
          ]
        }
      ]
    },
    {
      "cell_type": "code",
      "source": [
        "L1=[10,20,30,40]\n",
        "print(L1[0])\n",
        "L1[0]=100\n",
        "print(L1[0])"
      ],
      "metadata": {
        "colab": {
          "base_uri": "https://localhost:8080/"
        },
        "id": "OdURnOjr8HsB",
        "outputId": "7d362419-1f9f-403e-a0f7-855534cc4bb8"
      },
      "execution_count": null,
      "outputs": [
        {
          "output_type": "stream",
          "name": "stdout",
          "text": [
            "10\n",
            "100\n"
          ]
        }
      ]
    },
    {
      "cell_type": "code",
      "source": [
        "s=\"Hello\"\n",
        "print(s[0])\n",
        "s1=\"T\"+s[1:]\n",
        "print(s1)"
      ],
      "metadata": {
        "colab": {
          "base_uri": "https://localhost:8080/"
        },
        "id": "pK1UVGKP8rYC",
        "outputId": "b5d94f54-b54d-40fe-b793-e84475a0f552"
      },
      "execution_count": null,
      "outputs": [
        {
          "output_type": "stream",
          "name": "stdout",
          "text": [
            "H\n",
            "Tello\n"
          ]
        }
      ]
    },
    {
      "cell_type": "code",
      "source": [
        "def find(a):\n",
        " if \"j\"  in a:\n",
        "  print(\"Letter found\")\n",
        " else:\n",
        "  print(\"Letter not found\")\n",
        "\n",
        "s=\"Raheja College\"\n",
        "find(s)"
      ],
      "metadata": {
        "colab": {
          "base_uri": "https://localhost:8080/"
        },
        "id": "DVFbQ7tP-UrR",
        "outputId": "62b48766-1b5c-4a73-c302-663efb7be610"
      },
      "execution_count": null,
      "outputs": [
        {
          "output_type": "stream",
          "name": "stdout",
          "text": [
            "Letter found\n"
          ]
        }
      ]
    },
    {
      "cell_type": "code",
      "source": [
        "s=\"Raheja College\"\n",
        "def test():\n",
        " for n in s:\n",
        "  if(n==\"h\"):\n",
        "   print(\"Letter found\")\n",
        "\n",
        "test()"
      ],
      "metadata": {
        "colab": {
          "base_uri": "https://localhost:8080/"
        },
        "id": "OIX6ukxzBGKT",
        "outputId": "a7ae2f7f-3017-4e49-a264-d50ecbeb378f"
      },
      "execution_count": null,
      "outputs": [
        {
          "output_type": "stream",
          "name": "stdout",
          "text": [
            "Letter found\n"
          ]
        }
      ]
    },
    {
      "cell_type": "code",
      "source": [
        "s=\"Raheja College\"\n",
        "def test():\n",
        " count=0;\n",
        " for alpha in s:\n",
        "  if alpha==\"e\":\n",
        "   count=count+1\n",
        " print(count)\n",
        "\n",
        "test()"
      ],
      "metadata": {
        "colab": {
          "base_uri": "https://localhost:8080/"
        },
        "id": "egcr9KQ3CzV6",
        "outputId": "9c4d2c28-b36f-4863-864b-1dcaac01fbc3"
      },
      "execution_count": null,
      "outputs": [
        {
          "output_type": "stream",
          "name": "stdout",
          "text": [
            "3\n"
          ]
        }
      ]
    }
  ]
}