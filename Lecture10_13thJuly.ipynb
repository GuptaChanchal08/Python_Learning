{
  "nbformat": 4,
  "nbformat_minor": 0,
  "metadata": {
    "colab": {
      "provenance": [],
      "authorship_tag": "ABX9TyPwLasPxAhP4jAHBQLsq3WB",
      "include_colab_link": true
    },
    "kernelspec": {
      "name": "python3",
      "display_name": "Python 3"
    },
    "language_info": {
      "name": "python"
    }
  },
  "cells": [
    {
      "cell_type": "markdown",
      "metadata": {
        "id": "view-in-github",
        "colab_type": "text"
      },
      "source": [
        "<a href=\"https://colab.research.google.com/github/GuptaChanchal08/Python_Learning/blob/main/Lecture10_13thJuly.ipynb\" target=\"_parent\"><img src=\"https://colab.research.google.com/assets/colab-badge.svg\" alt=\"Open In Colab\"/></a>"
      ]
    },
    {
      "cell_type": "code",
      "execution_count": null,
      "metadata": {
        "colab": {
          "base_uri": "https://localhost:8080/"
        },
        "id": "EjrlowJzqKiZ",
        "outputId": "27ea31c3-3a98-4199-85c6-27c19a3c0336"
      },
      "outputs": [
        {
          "output_type": "stream",
          "name": "stdout",
          "text": [
            "Enter first name: Chanchal\n",
            "Enter middle name: Lalit\n",
            "Enter last name: Gupta\n",
            "Chanchal Lalit Gupta\n",
            "Enter email id: xyz123@gmail.com\n",
            "xyz123@gmail.com\n"
          ]
        }
      ],
      "source": [
        "fname=input(\"Enter first name: \");\n",
        "mname=input(\"Enter middle name: \");\n",
        "lname=input(\"Enter last name: \");\n",
        "\n",
        "name=\" \".join([fname,mname,lname]);\n",
        "print(name)\n",
        "\n",
        "email=input(\"Enter email id: \");\n",
        "if(email.endswith(\"com\")):\n",
        " print(email);\n",
        "elif(email.endswith(\"org\")):\n",
        " print(email);\n",
        "elif(email.endswith(\"edu\")):\n",
        " print(email);\n",
        "else:\n",
        " print(\"invalid\");"
      ]
    },
    {
      "cell_type": "code",
      "source": [
        "#PASSWORD\n",
        "fname=input(\"Enter fullname: \");\n",
        "fname=fname.lower()\n",
        "a=fname[0:4];\n",
        "dob=input(\"DOB-(ddmmyyyy): \");\n",
        "b=dob[0:4];\n",
        "\n",
        "password=a+b;\n",
        "print(\"Password:\",password);"
      ],
      "metadata": {
        "colab": {
          "base_uri": "https://localhost:8080/"
        },
        "id": "6IdrvhEKr36O",
        "outputId": "d5ae7717-8065-404e-e610-88b84342638f"
      },
      "execution_count": null,
      "outputs": [
        {
          "output_type": "stream",
          "name": "stdout",
          "text": [
            "Enter fullname: Chanchal Lalit Gupta\n",
            "DOB-(ddmmyyyy): 08072004\n",
            "Password: chan0807\n"
          ]
        }
      ]
    }
  ]
}