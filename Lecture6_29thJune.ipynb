{
  "nbformat": 4,
  "nbformat_minor": 0,
  "metadata": {
    "colab": {
      "provenance": [],
      "authorship_tag": "ABX9TyNu3nRyqdnYn0QxsBI6myQk",
      "include_colab_link": true
    },
    "kernelspec": {
      "name": "python3",
      "display_name": "Python 3"
    },
    "language_info": {
      "name": "python"
    }
  },
  "cells": [
    {
      "cell_type": "markdown",
      "metadata": {
        "id": "view-in-github",
        "colab_type": "text"
      },
      "source": [
        "<a href=\"https://colab.research.google.com/github/GuptaChanchal08/Python_Learning/blob/main/Lecture6_29thJune.ipynb\" target=\"_parent\"><img src=\"https://colab.research.google.com/assets/colab-badge.svg\" alt=\"Open In Colab\"/></a>"
      ]
    },
    {
      "cell_type": "code",
      "execution_count": null,
      "metadata": {
        "colab": {
          "base_uri": "https://localhost:8080/"
        },
        "id": "HoywUJMCvzpx",
        "outputId": "0f5657ab-05ef-41fa-d932-0979e844bb2b"
      },
      "outputs": [
        {
          "output_type": "stream",
          "name": "stdout",
          "text": [
            "test\n",
            "1\n",
            "2\n",
            "3\n"
          ]
        }
      ],
      "source": [
        "L1=[\"test\",1,2,3]\n",
        "for i in L1:\n",
        " print(i)"
      ]
    },
    {
      "cell_type": "code",
      "source": [
        "for i in range(1 , 11):\n",
        " print(i)"
      ],
      "metadata": {
        "colab": {
          "base_uri": "https://localhost:8080/"
        },
        "id": "jQIBwpmWxSiY",
        "outputId": "ba3ca623-1239-48ab-a64b-3a6e8bf9233b"
      },
      "execution_count": null,
      "outputs": [
        {
          "output_type": "stream",
          "name": "stdout",
          "text": [
            "1\n",
            "2\n",
            "3\n",
            "4\n",
            "5\n",
            "6\n",
            "7\n",
            "8\n",
            "9\n",
            "10\n"
          ]
        }
      ]
    },
    {
      "cell_type": "code",
      "source": [
        "for i in range(0,11,2):\n",
        " print(i)"
      ],
      "metadata": {
        "colab": {
          "base_uri": "https://localhost:8080/"
        },
        "id": "I1hAnAN6y6bz",
        "outputId": "d4d30541-7499-4ed8-c9cf-677dcf1bfbab"
      },
      "execution_count": null,
      "outputs": [
        {
          "output_type": "stream",
          "name": "stdout",
          "text": [
            "0\n",
            "2\n",
            "4\n",
            "6\n",
            "8\n",
            "10\n"
          ]
        }
      ]
    },
    {
      "cell_type": "code",
      "source": [
        "for i in range(0,101,5):\n",
        " print(i)"
      ],
      "metadata": {
        "colab": {
          "base_uri": "https://localhost:8080/"
        },
        "id": "OjIXgoeEzYyu",
        "outputId": "875ea03a-fcd2-4d36-9d8b-fc1f4cd3808d"
      },
      "execution_count": null,
      "outputs": [
        {
          "output_type": "stream",
          "name": "stdout",
          "text": [
            "0\n",
            "5\n",
            "10\n",
            "15\n",
            "20\n",
            "25\n",
            "30\n",
            "35\n",
            "40\n",
            "45\n",
            "50\n",
            "55\n",
            "60\n",
            "65\n",
            "70\n",
            "75\n",
            "80\n",
            "85\n",
            "90\n",
            "95\n",
            "100\n"
          ]
        }
      ]
    },
    {
      "cell_type": "code",
      "source": [
        "i=0\n",
        "while i<11:\n",
        " print(i)\n",
        " i=i+1"
      ],
      "metadata": {
        "colab": {
          "base_uri": "https://localhost:8080/"
        },
        "id": "7imB5Z300D4R",
        "outputId": "fd464ea2-9dae-417b-c721-dc3c2a1181c7"
      },
      "execution_count": null,
      "outputs": [
        {
          "output_type": "stream",
          "name": "stdout",
          "text": [
            "0\n",
            "1\n",
            "2\n",
            "3\n",
            "4\n",
            "5\n",
            "6\n",
            "7\n",
            "8\n",
            "9\n",
            "10\n"
          ]
        }
      ]
    },
    {
      "cell_type": "code",
      "source": [
        "city=[\"a\",\"b\",\"c\"]\n",
        "for i in city:\n",
        " print(\" I love \",i)"
      ],
      "metadata": {
        "colab": {
          "base_uri": "https://localhost:8080/"
        },
        "id": "CenGEZfo3Qie",
        "outputId": "7f8adcf5-4d03-4049-c6e2-8702a70bec79"
      },
      "execution_count": null,
      "outputs": [
        {
          "output_type": "stream",
          "name": "stdout",
          "text": [
            " I love  a\n",
            " I love  b\n",
            " I love  c\n"
          ]
        }
      ]
    },
    {
      "cell_type": "code",
      "source": [
        "for i in range(10):\n",
        " print(i)\n",
        "else:\n",
        " print(\"Loop ended\")"
      ],
      "metadata": {
        "colab": {
          "base_uri": "https://localhost:8080/"
        },
        "id": "yZlvpQMP5V-n",
        "outputId": "735186ef-165b-45a8-823b-b3a9afba5e8e"
      },
      "execution_count": null,
      "outputs": [
        {
          "output_type": "stream",
          "name": "stdout",
          "text": [
            "0\n",
            "1\n",
            "2\n",
            "3\n",
            "4\n",
            "5\n",
            "6\n",
            "7\n",
            "8\n",
            "9\n",
            "Loop ended\n"
          ]
        }
      ]
    },
    {
      "cell_type": "code",
      "source": [
        "for i in range(10):\n",
        " print(i)\n",
        " if(i==8):\n",
        "   print(\"Break loop\")\n",
        "   break\n",
        " else:\n",
        "   print(\"Loop ended\" )"
      ],
      "metadata": {
        "colab": {
          "base_uri": "https://localhost:8080/"
        },
        "id": "p8K1WP1862tQ",
        "outputId": "06380854-78b7-407a-9c28-b2e32d2c7a69"
      },
      "execution_count": null,
      "outputs": [
        {
          "output_type": "stream",
          "name": "stdout",
          "text": [
            "0\n",
            "Loop ended\n",
            "1\n",
            "Loop ended\n",
            "2\n",
            "Loop ended\n",
            "3\n",
            "Loop ended\n",
            "4\n",
            "Loop ended\n",
            "5\n",
            "Loop ended\n",
            "6\n",
            "Loop ended\n",
            "7\n",
            "Loop ended\n",
            "8\n",
            "Break loop\n"
          ]
        }
      ]
    },
    {
      "cell_type": "code",
      "source": [
        "c=0\n",
        "while c<3:\n",
        " print(\"While loop no: \",c)\n",
        " c=c+1\n",
        "else:\n",
        " print(\"Loop ended\")"
      ],
      "metadata": {
        "colab": {
          "base_uri": "https://localhost:8080/"
        },
        "id": "K7mBamQL9Z8x",
        "outputId": "14871e21-ddc8-4305-9da5-10cfbd61e509"
      },
      "execution_count": null,
      "outputs": [
        {
          "output_type": "stream",
          "name": "stdout",
          "text": [
            "While loop no:  0\n",
            "While loop no:  1\n",
            "While loop no:  2\n",
            "Loop ended\n"
          ]
        }
      ]
    },
    {
      "cell_type": "code",
      "source": [
        "a=int(input(\"enter number: \"))\n",
        "for i in range(1,11):\n",
        " print(a,\"*\",i,\"=\",a*i)"
      ],
      "metadata": {
        "colab": {
          "base_uri": "https://localhost:8080/"
        },
        "id": "4aH0_pSA_xgD",
        "outputId": "46f5d345-8015-4a4b-c48e-b2e84a41d1ff"
      },
      "execution_count": null,
      "outputs": [
        {
          "output_type": "stream",
          "name": "stdout",
          "text": [
            "enter number: 16\n",
            "16 * 1 = 16\n",
            "16 * 2 = 32\n",
            "16 * 3 = 48\n",
            "16 * 4 = 64\n",
            "16 * 5 = 80\n",
            "16 * 6 = 96\n",
            "16 * 7 = 112\n",
            "16 * 8 = 128\n",
            "16 * 9 = 144\n",
            "16 * 10 = 160\n"
          ]
        }
      ]
    },
    {
      "cell_type": "code",
      "source": [
        "a=int(input(\"Enter number: \"))\n",
        "i=1\n",
        "while i<11:\n",
        " print(a,\"*\",i,\"=\",a*i)\n",
        " i=i+1"
      ],
      "metadata": {
        "colab": {
          "base_uri": "https://localhost:8080/"
        },
        "id": "Z9gwkyg9BUvI",
        "outputId": "2c6e5bc2-045c-45c4-eec1-1e4d56287cbf"
      },
      "execution_count": null,
      "outputs": [
        {
          "output_type": "stream",
          "name": "stdout",
          "text": [
            "Enter number: 8\n",
            "8 * 1 = 8\n",
            "8 * 2 = 16\n",
            "8 * 3 = 24\n",
            "8 * 4 = 32\n",
            "8 * 5 = 40\n",
            "8 * 6 = 48\n",
            "8 * 7 = 56\n",
            "8 * 8 = 64\n",
            "8 * 9 = 72\n",
            "8 * 10 = 80\n"
          ]
        }
      ]
    },
    {
      "cell_type": "code",
      "source": [
        "a=int(input(\"Enter number: \"))\n",
        "if a<=10:\n",
        " i=1\n",
        " while i<11:\n",
        "   print(a,\"*\",i,\"=\",a*i)\n",
        "   i=i+1\n",
        "else:\n",
        "  print(\"Enter number between 1 to 10\")"
      ],
      "metadata": {
        "colab": {
          "base_uri": "https://localhost:8080/"
        },
        "id": "eMDjuIIwD7gq",
        "outputId": "a2084705-f160-491b-9639-386aab933a15"
      },
      "execution_count": null,
      "outputs": [
        {
          "output_type": "stream",
          "name": "stdout",
          "text": [
            "Enter number: 16\n",
            "Enter number between 1 to 10\n"
          ]
        }
      ]
    }
  ]
}