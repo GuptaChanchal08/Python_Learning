{
  "nbformat": 4,
  "nbformat_minor": 0,
  "metadata": {
    "colab": {
      "provenance": [],
      "authorship_tag": "ABX9TyO19PWAWJUc4uz56gjdr+ux",
      "include_colab_link": true
    },
    "kernelspec": {
      "name": "python3",
      "display_name": "Python 3"
    },
    "language_info": {
      "name": "python"
    }
  },
  "cells": [
    {
      "cell_type": "markdown",
      "metadata": {
        "id": "view-in-github",
        "colab_type": "text"
      },
      "source": [
        "<a href=\"https://colab.research.google.com/github/GuptaChanchal08/Python_Learning/blob/main/Lecture13_03rdAug.ipynb\" target=\"_parent\"><img src=\"https://colab.research.google.com/assets/colab-badge.svg\" alt=\"Open In Colab\"/></a>"
      ]
    },
    {
      "cell_type": "code",
      "execution_count": null,
      "metadata": {
        "colab": {
          "base_uri": "https://localhost:8080/"
        },
        "id": "Typ09IqN9evk",
        "outputId": "327d0821-1504-4fce-81f4-f712c6f916dc"
      },
      "outputs": [
        {
          "output_type": "stream",
          "name": "stdout",
          "text": [
            "Enter your username: chanchal\n",
            "Enter your password: chanchu\n",
            "Login successful\n"
          ]
        }
      ],
      "source": [
        "def login():\n",
        "  uname=input(\"Enter your username: \");\n",
        "  pwd=input(\"Enter your password: \");\n",
        "  if (username == uname and password == pwd):\n",
        "    print(\"Login successful\");\n",
        "  else:\n",
        "    print(\"Invalid username or password\");\n",
        "\n",
        "username=\"chanchal\";\n",
        "password=\"chanchu\";\n",
        "login();"
      ]
    },
    {
      "cell_type": "code",
      "source": [
        "username = \"chanchal\"\n",
        "passwd = \"12345678\"\n",
        "\n",
        "def login():\n",
        "    password = input(\"Enter password, password sholud be 8 cha long...\")\n",
        "    a = len(password)\n",
        "    if a >= 8:\n",
        "        uname = input(\"Enter ur username...\")\n",
        "        if (uname == username and passwd == password):\n",
        "            print(\"Login successful\")\n",
        "        else:\n",
        "            print(\"Invalid username or password\")\n",
        "    else:\n",
        "        print(\"invalid password length..\")\n",
        "\n",
        "\n",
        "login()"
      ],
      "metadata": {
        "colab": {
          "base_uri": "https://localhost:8080/"
        },
        "id": "tCesUOeA_8kJ",
        "outputId": "18325c55-88a1-4882-900b-87500a8b4201"
      },
      "execution_count": null,
      "outputs": [
        {
          "output_type": "stream",
          "name": "stdout",
          "text": [
            "Enter password, password sholud be 8 cha long...12345678\n",
            "Enter ur username...Chanchal\n",
            "Invalid username or password\n"
          ]
        }
      ]
    },
    {
      "cell_type": "code",
      "source": [
        "#membership\n",
        "a = \"HELLO WORLD\"\n",
        "#a = a.lower();\n",
        "print(\"hello\" not in a) # True\n",
        "print('at' not in 'battle') # False"
      ],
      "metadata": {
        "colab": {
          "base_uri": "https://localhost:8080/"
        },
        "id": "xhiFHJ3IHzKH",
        "outputId": "d35eba05-275c-4a8e-d7dd-4a99a536f4d4"
      },
      "execution_count": null,
      "outputs": [
        {
          "output_type": "stream",
          "name": "stdout",
          "text": [
            "True\n",
            "False\n"
          ]
        }
      ]
    },
    {
      "cell_type": "code",
      "source": [
        "#partition\n",
        "string = \"Python is fun\"\n",
        "\n",
        "# 'is' separator is found\n",
        "print(string.partition('is '))\n",
        "\n",
        "# 'not' separator is not found\n",
        "print(string.partition('not '))\n",
        "\n",
        "string = \"Python is fun, isn't it\"\n",
        "\n",
        "# splits at first occurence of 'is'\n",
        "print(string.partition('is'))"
      ],
      "metadata": {
        "colab": {
          "base_uri": "https://localhost:8080/"
        },
        "id": "xfdb1njcJgTf",
        "outputId": "fde17ab6-0336-4f7f-f66b-75ebd515835a"
      },
      "execution_count": null,
      "outputs": [
        {
          "output_type": "stream",
          "name": "stdout",
          "text": [
            "('Python ', 'is ', 'fun')\n",
            "('Python is fun', '', '')\n",
            "('Python ', 'is', \" fun, isn't it\")\n"
          ]
        }
      ]
    },
    {
      "cell_type": "code",
      "source": [
        "#replace\n",
        "song = 'cold, cold heart'\n",
        "\n",
        "# replacing 'cold' with 'hurt'\n",
        "print(song.replace('cold', 'hurt'))\n",
        "\n",
        "song = 'Let it be, let it be, let it be, let it be'\n",
        "\n",
        "# replacing only two occurrences of 'let'\n",
        "print(song.replace('let', \"don't let\",10000000))"
      ],
      "metadata": {
        "colab": {
          "base_uri": "https://localhost:8080/"
        },
        "id": "jMgLodwlJlHO",
        "outputId": "678f1210-22bd-4592-ffcc-c948057f9034"
      },
      "execution_count": null,
      "outputs": [
        {
          "output_type": "stream",
          "name": "stdout",
          "text": [
            "hurt, hurt heart\n",
            "Let it be, don't let it be, don't let it be, don't let it be\n"
          ]
        }
      ]
    },
    {
      "cell_type": "code",
      "source": [
        "#find\n",
        "message = 'Python is a fun programming fun language'\n",
        "\n",
        "# check the index of 'fun'\n",
        "print(message.rfind('fun'))"
      ],
      "metadata": {
        "colab": {
          "base_uri": "https://localhost:8080/"
        },
        "id": "0aRYI4HvMsEu",
        "outputId": "9fc8c62a-088c-435a-a200-88598c81c458"
      },
      "execution_count": null,
      "outputs": [
        {
          "output_type": "stream",
          "name": "stdout",
          "text": [
            "28\n"
          ]
        }
      ]
    },
    {
      "cell_type": "code",
      "source": [
        "#find\n",
        "message = 'Python is a fun programming fun language'\n",
        "\n",
        "# check the index of 'fun'\n",
        "print(message.find('fun'))"
      ],
      "metadata": {
        "colab": {
          "base_uri": "https://localhost:8080/"
        },
        "id": "Ycg40aJkMsNN",
        "outputId": "b0525a0c-3fa2-48f8-f793-84a1a831c46a"
      },
      "execution_count": null,
      "outputs": [
        {
          "output_type": "stream",
          "name": "stdout",
          "text": [
            "12\n"
          ]
        }
      ]
    },
    {
      "cell_type": "code",
      "source": [
        "#strip\n",
        "title = '         Python     test          '\n",
        "\n",
        "# remove trailing whitespace from title\n",
        "print(title)\n",
        "result = title.strip() # strip blanckspace from both sides\n",
        "result1 = title.lstrip()\n",
        "result2 = title.rstrip()\n",
        "print(\"only strip func\",result)\n",
        "print(\"only lstrip func\",result1)\n",
        "print(\"only rstrip func\",result2)"
      ],
      "metadata": {
        "colab": {
          "base_uri": "https://localhost:8080/"
        },
        "id": "SeXAVg-aNZF2",
        "outputId": "ef248e65-21a4-4f12-e53c-cc37051c2799"
      },
      "execution_count": null,
      "outputs": [
        {
          "output_type": "stream",
          "name": "stdout",
          "text": [
            "         Python     test          \n",
            "only strip func Python     test\n",
            "only lstrip func Python     test          \n",
            "only rstrip func          Python     test\n"
          ]
        }
      ]
    },
    {
      "cell_type": "code",
      "source": [
        "#split\n",
        "text = '      Python     is     fun        '\n",
        "\n",
        "# split the text from space\n",
        "print(text.split())\n",
        "\n",
        "# Output: ['Python', 'is', 'fun']"
      ],
      "metadata": {
        "colab": {
          "base_uri": "https://localhost:8080/"
        },
        "id": "iy53Yx9qN10V",
        "outputId": "919e12d5-9776-4573-df61-6f17cb6dbb12"
      },
      "execution_count": null,
      "outputs": [
        {
          "output_type": "stream",
          "name": "stdout",
          "text": [
            "['Python', 'is', 'fun']\n"
          ]
        }
      ]
    },
    {
      "cell_type": "code",
      "source": [
        "def students_name():\n",
        "  names=[input(\"Enter name of student: \")\n",
        "  for _ in range(5)]\n",
        "  names.sort()\n",
        "  print(\"Sorted names: \")\n",
        "  for name in names:\n",
        "    print(name)\n",
        "\n",
        "students_name()"
      ],
      "metadata": {
        "id": "REBHcDuq_pde",
        "colab": {
          "base_uri": "https://localhost:8080/"
        },
        "outputId": "1642c858-2d21-4ec8-dd0b-2c09d1aa134d"
      },
      "execution_count": 25,
      "outputs": [
        {
          "output_type": "stream",
          "name": "stdout",
          "text": [
            "Enter name of student: Chanchal\n",
            "Enter name of student: Pooja\n",
            "Enter name of student: Priya\n",
            "Enter name of student: Shweta\n",
            "Enter name of student: Anjali\n",
            "Sorted names: \n",
            "Anjali\n",
            "Chanchal\n",
            "Pooja\n",
            "Priya\n",
            "Shweta\n"
          ]
        }
      ]
    },
    {
      "cell_type": "code",
      "source": [
        "name=input(\"Enter five names separated by spaces: \")\n",
        "sname=name.split()\n",
        "sorted=sorted(sname)\n",
        "print(\"Names:\",sorted)"
      ],
      "metadata": {
        "colab": {
          "base_uri": "https://localhost:8080/"
        },
        "id": "Toxm3wmo_r_1",
        "outputId": "573c64b1-c1ec-4627-c889-481760e0d3cc"
      },
      "execution_count": null,
      "outputs": [
        {
          "output_type": "stream",
          "name": "stdout",
          "text": [
            "Enter five names separated by spaces: Chanchal Pooja Priya Shweta Anjali\n",
            "Names: ['Anjali', 'Chanchal', 'Pooja', 'Priya', 'Shweta']\n"
          ]
        }
      ]
    },
    {
      "cell_type": "code",
      "source": [
        "username=\"chanchal\";\n",
        "password=\"chanchu\";\n",
        "fname=input(\"Enter your first name: \");\n",
        "lname=input(\"Enter your last name: \");\n",
        "mail=input(\"Enter your email-id: \");\n",
        "if(\".\" in mail and \"com\" in mail):\n",
        "  print(\" Validated\");\n",
        "else:\n",
        "  print(\" Invalid mail id\")\n",
        "pin=input(\"Enter pin code: \");\n",
        "if(pin.isnumeric() and len(pin)==6):\n",
        "  print(\" Valid pin code\");\n",
        "else:\n",
        "  print(\" Invalid\");\n",
        "contact=input(\"Enter your phone number: \");\n",
        "if(contact.isnumeric() and len(contact)==10):\n",
        "  print(\" Valid contact details\");\n",
        "else:\n",
        "  print(\" Invalid\");\n",
        "uname=input(\"Enter your username: \");\n",
        "pwd=input(\"Enter your password: \");\n",
        "if (username == uname and password == pwd):\n",
        "    print(\"Correct data!\\n User details:\\n  Full name: \"+ fname + \" \" + lname + \"\\n  Email-id: \"+ mail + \"\\n  Pincode: \" + pin + \"\\n  Contact No: \" + contact)\n",
        "else:\n",
        "    print(\" Invalid username or password\");"
      ],
      "metadata": {
        "colab": {
          "base_uri": "https://localhost:8080/"
        },
        "id": "6aC0y-wvS5kO",
        "outputId": "cd037b4e-e5e5-4377-e3d9-9185be42930a"
      },
      "execution_count": null,
      "outputs": [
        {
          "output_type": "stream",
          "name": "stdout",
          "text": [
            "Enter your first name: Chanchal\n",
            "Enter your last name: Gupta\n",
            "Enter your email-id: chanchugupta@gmail.com\n",
            " Validated\n",
            "Enter pin code: 400051\n",
            " Valid pin code\n",
            "Enter your phone number: 9876543210\n",
            " Valid contact details\n",
            "Enter your username: chanchal\n",
            "Enter your password: chanchu\n",
            "Correct data!\n",
            " User details:\n",
            "  Full name: Chanchal Gupta\n",
            "  Email-id: chanchugupta@gmail.com\n",
            "  Pincode: 400051\n",
            "  Contact No: 9876543210\n"
          ]
        }
      ]
    }
  ]
}