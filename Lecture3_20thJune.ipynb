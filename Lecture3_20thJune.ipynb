{
  "nbformat": 4,
  "nbformat_minor": 0,
  "metadata": {
    "colab": {
      "provenance": [],
      "authorship_tag": "ABX9TyNuTJCrkuYhCAjypegwqxIn",
      "include_colab_link": true
    },
    "kernelspec": {
      "name": "python3",
      "display_name": "Python 3"
    },
    "language_info": {
      "name": "python"
    }
  },
  "cells": [
    {
      "cell_type": "markdown",
      "metadata": {
        "id": "view-in-github",
        "colab_type": "text"
      },
      "source": [
        "<a href=\"https://colab.research.google.com/github/GuptaChanchal08/Python_Learning/blob/main/Lecture3_20thJune.ipynb\" target=\"_parent\"><img src=\"https://colab.research.google.com/assets/colab-badge.svg\" alt=\"Open In Colab\"/></a>"
      ]
    },
    {
      "cell_type": "code",
      "execution_count": null,
      "metadata": {
        "colab": {
          "base_uri": "https://localhost:8080/"
        },
        "id": "xoLly1HHaQQx",
        "outputId": "5a6434fb-fdfb-4ec7-f880-7d049543e0fc"
      },
      "outputs": [
        {
          "output_type": "stream",
          "name": "stdout",
          "text": [
            " Hello,\n",
            "How r you? \n"
          ]
        }
      ],
      "source": [
        "print(\"\"\" Hello,\n",
        "How r you? \"\"\");"
      ]
    },
    {
      "cell_type": "code",
      "source": [
        "age=16\n",
        "if age>18:\n",
        "  print(\"Eligible\")\n",
        "else:\n",
        "  print(\"Not eligible\")"
      ],
      "metadata": {
        "colab": {
          "base_uri": "https://localhost:8080/"
        },
        "id": "Qlri3bthkmA9",
        "outputId": "2bac8a19-a1c7-4a3e-c34b-1e054c43b9cd"
      },
      "execution_count": null,
      "outputs": [
        {
          "output_type": "stream",
          "name": "stdout",
          "text": [
            "N\n"
          ]
        }
      ]
    },
    {
      "cell_type": "code",
      "source": [
        "a=int(input(\"Enter no 1: \"))\n",
        "b=int(input(\"Enter no 2: \"))\n",
        "if a<b:\n",
        "  print(\"b is greater than a\")\n",
        "elif a>b:\n",
        "  print(\"a is greater than b\")\n",
        "else:\n",
        "  print(\"Both are equal\")"
      ],
      "metadata": {
        "colab": {
          "base_uri": "https://localhost:8080/"
        },
        "id": "n5jdYJoMmF_f",
        "outputId": "7615af46-e13b-4ad7-9d77-de58be62a2e7"
      },
      "execution_count": null,
      "outputs": [
        {
          "output_type": "stream",
          "name": "stdout",
          "text": [
            "Enter no 1: 16\n",
            "Enter no 2: 16\n",
            "Both are equal\n"
          ]
        }
      ]
    },
    {
      "cell_type": "code",
      "source": [
        "a=10\n",
        "b='abc'\n",
        "if(a:=b):\n",
        "  print(\"Success\")\n",
        "else:\n",
        "  print(\"Not success\")"
      ],
      "metadata": {
        "colab": {
          "base_uri": "https://localhost:8080/"
        },
        "id": "_Iwi5SfFo_HX",
        "outputId": "377e912c-0a91-4fe6-e66a-96e3af4634c4"
      },
      "execution_count": null,
      "outputs": [
        {
          "output_type": "stream",
          "name": "stdout",
          "text": [
            "Success\n"
          ]
        }
      ]
    },
    {
      "cell_type": "code",
      "source": [
        "a=int(input(\"Enter Phy marks: \"))\n",
        "b=int(input(\"Enter Chem marks: \"))\n",
        "c=int(input(\"Enter Bio marks: \"))\n",
        "d=int(input(\"Enter Math marks: \"))\n",
        "e=int(input(\"Enter Eng marks: \"))\n",
        "per=(a+b+c+d+e)/5\n",
        "print(\"Percentage = \",per)\n",
        "if per<35:\n",
        "  print(\" Fail\")\n",
        "elif (per>=35) & (per<40):\n",
        "  print(\" Pass class\")\n",
        "elif (per>=40) & (per<60):\n",
        "  print(\"Second class\")\n",
        "elif (per>=60) & (per<75):\n",
        "  print(\"First class\")\n",
        "elif (per>=75) & (per<=100):\n",
        "  print(\"Distinction\")\n",
        "else:\n",
        "  print(\"Invalid data\")"
      ],
      "metadata": {
        "colab": {
          "base_uri": "https://localhost:8080/"
        },
        "id": "2a_nd2mMq4VI",
        "outputId": "edf59095-181e-465d-feea-2f7d8454436a"
      },
      "execution_count": null,
      "outputs": [
        {
          "output_type": "stream",
          "name": "stdout",
          "text": [
            "Enter Phy marks: 67\n",
            "Enter Chem marks: 78\n",
            "Enter Bio marks: 89\n",
            "Enter Math marks: 91\n",
            "Enter Eng marks: 99\n",
            "Percentage =  84.8\n",
            "Distinction\n"
          ]
        }
      ]
    }
  ]
}